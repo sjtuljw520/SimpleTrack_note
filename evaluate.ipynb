{
 "cells": [
  {
   "cell_type": "code",
   "execution_count": 1,
   "id": "62df5ad6",
   "metadata": {},
   "outputs": [],
   "source": [
    "import subprocess\n",
    "import numpy as np"
   ]
  },
  {
   "cell_type": "markdown",
   "id": "ea1614eb",
   "metadata": {},
   "source": [
    "## pvrcnn++ & simpletrack results"
   ]
  },
  {
   "cell_type": "code",
   "execution_count": 4,
   "id": "c12d342f",
   "metadata": {},
   "outputs": [
    {
     "name": "stdout",
     "output_type": "stream",
     "text": [
      "\n",
      "OBJECT_TYPE_TYPE_VEHICLE_LEVEL_1: [MOTA 0.611739] [MOTP 0.162578] [Miss 0.29723] [Mismatch 0.00108791] [FP 0.0899426]\n",
      "OBJECT_TYPE_TYPE_VEHICLE_LEVEL_2: [MOTA 0.575495] [MOTP 0.163166] [Miss 0.332458] [Mismatch 0.00107355] [FP 0.0909733]\n",
      "OBJECT_TYPE_TYPE_PEDESTRIAN_LEVEL_1: [MOTA 0.615234] [MOTP 0.3066] [Miss 0.279892] [Mismatch 0.0044213] [FP 0.100452]\n",
      "OBJECT_TYPE_TYPE_PEDESTRIAN_LEVEL_2: [MOTA 0.577519] [MOTP 0.308105] [Miss 0.310046] [Mismatch 0.00432551] [FP 0.10811]\n",
      "OBJECT_TYPE_TYPE_SIGN_LEVEL_1: [MOTA 0] [MOTP 0] [Miss 0] [Mismatch 0] [FP 0]\n",
      "OBJECT_TYPE_TYPE_SIGN_LEVEL_2: [MOTA 0] [MOTP 0] [Miss 0] [Mismatch 0] [FP 0]\n",
      "OBJECT_TYPE_TYPE_CYCLIST_LEVEL_1: [MOTA 0.537] [MOTP 0.244145] [Miss 0.366761] [Mismatch 0.00735948] [FP 0.0888799]\n",
      "OBJECT_TYPE_TYPE_CYCLIST_LEVEL_2: [MOTA 0.53557] [MOTP 0.244145] [Miss 0.368447] [Mismatch 0.00733989] [FP 0.0886433]\n",
      "RANGE_TYPE_VEHICLE_[0, 30)_LEVEL_1: [MOTA 0.877263] [MOTP 0.140977] [Miss 0.0830636] [Mismatch 0.000202676] [FP 0.0394712]\n",
      "RANGE_TYPE_VEHICLE_[0, 30)_LEVEL_2: [MOTA 0.870126] [MOTP 0.141112] [Miss 0.0889483] [Mismatch 0.000203818] [FP 0.0407217]\n",
      "RANGE_TYPE_VEHICLE_[30, 50)_LEVEL_1: [MOTA 0.609702] [MOTP 0.17166] [Miss 0.282847] [Mismatch 0.00104498] [FP 0.106407]\n",
      "RANGE_TYPE_VEHICLE_[30, 50)_LEVEL_2: [MOTA 0.581104] [MOTP 0.17166] [Miss 0.316485] [Mismatch 0.000995965] [FP 0.101416]\n",
      "RANGE_TYPE_VEHICLE_[50, +inf)_LEVEL_1: [MOTA 0.331708] [MOTP 0.19223] [Miss 0.525321] [Mismatch 0.00190926] [FP 0.141061]\n",
      "RANGE_TYPE_VEHICLE_[50, +inf)_LEVEL_2: [MOTA 0.293039] [MOTP 0.192952] [Miss 0.570371] [Mismatch 0.00177343] [FP 0.134816]\n",
      "RANGE_TYPE_PEDESTRIAN_[0, 30)_LEVEL_1: [MOTA 0.732084] [MOTP 0.289309] [Miss 0.183342] [Mismatch 0.00273574] [FP 0.0818387]\n",
      "RANGE_TYPE_PEDESTRIAN_[0, 30)_LEVEL_2: [MOTA 0.69506] [MOTP 0.29028] [Miss 0.215887] [Mismatch 0.00268917] [FP 0.0863636]\n",
      "RANGE_TYPE_PEDESTRIAN_[30, 50)_LEVEL_1: [MOTA 0.606971] [MOTP 0.314768] [Miss 0.276644] [Mismatch 0.00446971] [FP 0.111915]\n",
      "RANGE_TYPE_PEDESTRIAN_[30, 50)_LEVEL_2: [MOTA 0.575969] [MOTP 0.315412] [Miss 0.306366] [Mismatch 0.00430942] [FP 0.113355]\n",
      "RANGE_TYPE_PEDESTRIAN_[50, +inf)_LEVEL_1: [MOTA 0.43332] [MOTP 0.335599] [Miss 0.418947] [Mismatch 0.00617411] [FP 0.141558]\n",
      "RANGE_TYPE_PEDESTRIAN_[50, +inf)_LEVEL_2: [MOTA 0.394247] [MOTP 0.335599] [Miss 0.471342] [Mismatch 0.00561739] [FP 0.128794]\n",
      "RANGE_TYPE_SIGN_[0, 30)_LEVEL_1: [MOTA 0] [MOTP 0] [Miss 0] [Mismatch 0] [FP 0]\n",
      "RANGE_TYPE_SIGN_[0, 30)_LEVEL_2: [MOTA 0] [MOTP 0] [Miss 0] [Mismatch 0] [FP 0]\n",
      "RANGE_TYPE_SIGN_[30, 50)_LEVEL_1: [MOTA 0] [MOTP 0] [Miss 0] [Mismatch 0] [FP 0]\n",
      "RANGE_TYPE_SIGN_[30, 50)_LEVEL_2: [MOTA 0] [MOTP 0] [Miss 0] [Mismatch 0] [FP 0]\n",
      "RANGE_TYPE_SIGN_[50, +inf)_LEVEL_1: [MOTA 0] [MOTP 0] [Miss 0] [Mismatch 0] [FP 0]\n",
      "RANGE_TYPE_SIGN_[50, +inf)_LEVEL_2: [MOTA 0] [MOTP 0] [Miss 0] [Mismatch 0] [FP 0]\n",
      "RANGE_TYPE_CYCLIST_[0, 30)_LEVEL_1: [MOTA 0.692901] [MOTP 0.217308] [Miss 0.223736] [Mismatch 0.00609537] [FP 0.0772678]\n",
      "RANGE_TYPE_CYCLIST_[0, 30)_LEVEL_2: [MOTA 0.692901] [MOTP 0.217308] [Miss 0.223736] [Mismatch 0.00609537] [FP 0.0772678]\n",
      "RANGE_TYPE_CYCLIST_[30, 50)_LEVEL_1: [MOTA 0.51272] [MOTP 0.262653] [Miss 0.399497] [Mismatch 0.00810735] [FP 0.0796757]\n",
      "RANGE_TYPE_CYCLIST_[30, 50)_LEVEL_2: [MOTA 0.509728] [MOTP 0.262653] [Miss 0.403002] [Mismatch 0.00806003] [FP 0.0792107]\n",
      "RANGE_TYPE_CYCLIST_[50, +inf)_LEVEL_1: [MOTA 0.283801] [MOTP 0.299764] [Miss 0.591589] [Mismatch 0.00685358] [FP 0.117757]\n",
      "RANGE_TYPE_CYCLIST_[50, +inf)_LEVEL_2: [MOTA 0.282744] [MOTP 0.299764] [Miss 0.59311] [Mismatch 0.00682806] [FP 0.117318]\n",
      "\n"
     ]
    }
   ],
   "source": [
    "pred_bin =\"/mnt/data/waymo/mot/mot_results/SimpleTrack/bin/pred_cc07.bin\"\n",
    "gt_bin= \"/mnt/data/waymo/validation/ground_truth_objects/gt.bin\"\n",
    "#pklfile_prefix=waymo_root\n",
    "#waymo_root=pklfile_prefix\n",
    "ret_bytes = subprocess.check_output(\n",
    "    '../waymo-open-dataset-master/bin/compute_tracking_metrics_main ' + pred_bin + \" \"+ gt_bin, shell=True)\n",
    "ret_texts = ret_bytes.decode('utf-8')\n",
    "print(ret_texts)"
   ]
  },
  {
   "cell_type": "code",
   "execution_count": 5,
   "id": "6a4b5ead",
   "metadata": {},
   "outputs": [
    {
     "name": "stdout",
     "output_type": "stream",
     "text": [
      "\n",
      "OBJECT_TYPE_TYPE_VEHICLE_LEVEL_1: [MOTA 0.611739] [MOTP 0.162578] [Miss 0.29723] [Mismatch 0.00108791] [FP 0.0899426]\n",
      "OBJECT_TYPE_TYPE_VEHICLE_LEVEL_2: [MOTA 0.575495] [MOTP 0.163166] [Miss 0.332458] [Mismatch 0.00107355] [FP 0.0909733]\n",
      "OBJECT_TYPE_TYPE_PEDESTRIAN_LEVEL_1: [MOTA 0.615234] [MOTP 0.3066] [Miss 0.279892] [Mismatch 0.0044213] [FP 0.100452]\n",
      "OBJECT_TYPE_TYPE_PEDESTRIAN_LEVEL_2: [MOTA 0.577519] [MOTP 0.308105] [Miss 0.310046] [Mismatch 0.00432551] [FP 0.10811]\n",
      "OBJECT_TYPE_TYPE_SIGN_LEVEL_1: [MOTA 0] [MOTP 0] [Miss 0] [Mismatch 0] [FP 0]\n",
      "OBJECT_TYPE_TYPE_SIGN_LEVEL_2: [MOTA 0] [MOTP 0] [Miss 0] [Mismatch 0] [FP 0]\n",
      "OBJECT_TYPE_TYPE_CYCLIST_LEVEL_1: [MOTA 0.538132] [MOTP 0.244201] [Miss 0.366195] [Mismatch 0.00735948] [FP 0.0883138]\n",
      "OBJECT_TYPE_TYPE_CYCLIST_LEVEL_2: [MOTA 0.536699] [MOTP 0.244201] [Miss 0.367882] [Mismatch 0.00733989] [FP 0.0880787]\n",
      "RANGE_TYPE_VEHICLE_[0, 30)_LEVEL_1: [MOTA 0.877263] [MOTP 0.140977] [Miss 0.0830636] [Mismatch 0.000202676] [FP 0.0394712]\n",
      "RANGE_TYPE_VEHICLE_[0, 30)_LEVEL_2: [MOTA 0.870126] [MOTP 0.141112] [Miss 0.0889483] [Mismatch 0.000203818] [FP 0.0407217]\n",
      "RANGE_TYPE_VEHICLE_[30, 50)_LEVEL_1: [MOTA 0.609702] [MOTP 0.17166] [Miss 0.282847] [Mismatch 0.00104498] [FP 0.106407]\n",
      "RANGE_TYPE_VEHICLE_[30, 50)_LEVEL_2: [MOTA 0.581104] [MOTP 0.17166] [Miss 0.316485] [Mismatch 0.000995965] [FP 0.101416]\n",
      "RANGE_TYPE_VEHICLE_[50, +inf)_LEVEL_1: [MOTA 0.331708] [MOTP 0.19223] [Miss 0.525321] [Mismatch 0.00190926] [FP 0.141061]\n",
      "RANGE_TYPE_VEHICLE_[50, +inf)_LEVEL_2: [MOTA 0.293039] [MOTP 0.192952] [Miss 0.570371] [Mismatch 0.00177343] [FP 0.134816]\n",
      "RANGE_TYPE_PEDESTRIAN_[0, 30)_LEVEL_1: [MOTA 0.732084] [MOTP 0.289309] [Miss 0.183342] [Mismatch 0.00273574] [FP 0.0818387]\n",
      "RANGE_TYPE_PEDESTRIAN_[0, 30)_LEVEL_2: [MOTA 0.69506] [MOTP 0.29028] [Miss 0.215887] [Mismatch 0.00268917] [FP 0.0863636]\n",
      "RANGE_TYPE_PEDESTRIAN_[30, 50)_LEVEL_1: [MOTA 0.606971] [MOTP 0.314768] [Miss 0.276644] [Mismatch 0.00446971] [FP 0.111915]\n",
      "RANGE_TYPE_PEDESTRIAN_[30, 50)_LEVEL_2: [MOTA 0.575969] [MOTP 0.315412] [Miss 0.306366] [Mismatch 0.00430942] [FP 0.113355]\n",
      "RANGE_TYPE_PEDESTRIAN_[50, +inf)_LEVEL_1: [MOTA 0.43332] [MOTP 0.335599] [Miss 0.418947] [Mismatch 0.00617411] [FP 0.141558]\n",
      "RANGE_TYPE_PEDESTRIAN_[50, +inf)_LEVEL_2: [MOTA 0.394247] [MOTP 0.335599] [Miss 0.471342] [Mismatch 0.00561739] [FP 0.128794]\n",
      "RANGE_TYPE_SIGN_[0, 30)_LEVEL_1: [MOTA 0] [MOTP 0] [Miss 0] [Mismatch 0] [FP 0]\n",
      "RANGE_TYPE_SIGN_[0, 30)_LEVEL_2: [MOTA 0] [MOTP 0] [Miss 0] [Mismatch 0] [FP 0]\n",
      "RANGE_TYPE_SIGN_[30, 50)_LEVEL_1: [MOTA 0] [MOTP 0] [Miss 0] [Mismatch 0] [FP 0]\n",
      "RANGE_TYPE_SIGN_[30, 50)_LEVEL_2: [MOTA 0] [MOTP 0] [Miss 0] [Mismatch 0] [FP 0]\n",
      "RANGE_TYPE_SIGN_[50, +inf)_LEVEL_1: [MOTA 0] [MOTP 0] [Miss 0] [Mismatch 0] [FP 0]\n",
      "RANGE_TYPE_SIGN_[50, +inf)_LEVEL_2: [MOTA 0] [MOTP 0] [Miss 0] [Mismatch 0] [FP 0]\n",
      "RANGE_TYPE_CYCLIST_[0, 30)_LEVEL_1: [MOTA 0.693259] [MOTP 0.217175] [Miss 0.223557] [Mismatch 0.00609537] [FP 0.0770886]\n",
      "RANGE_TYPE_CYCLIST_[0, 30)_LEVEL_2: [MOTA 0.693259] [MOTP 0.217175] [Miss 0.223557] [Mismatch 0.00609537] [FP 0.0770886]\n",
      "RANGE_TYPE_CYCLIST_[30, 50)_LEVEL_1: [MOTA 0.513566] [MOTP 0.261576] [Miss 0.407832] [Mismatch 0.00727273] [FP 0.0713287]\n",
      "RANGE_TYPE_CYCLIST_[30, 50)_LEVEL_2: [MOTA 0.510561] [MOTP 0.262728] [Miss 0.402724] [Mismatch 0.00806003] [FP 0.0786548]\n",
      "RANGE_TYPE_CYCLIST_[50, +inf)_LEVEL_1: [MOTA 0.287227] [MOTP 0.300416] [Miss 0.58972] [Mismatch 0.00685358] [FP 0.116199]\n",
      "RANGE_TYPE_CYCLIST_[50, +inf)_LEVEL_2: [MOTA 0.286158] [MOTP 0.300416] [Miss 0.591248] [Mismatch 0.00682806] [FP 0.115767]\n",
      "\n"
     ]
    }
   ],
   "source": [
    "pred_bin =\"/mnt/data/waymo/mot/mot_results/SimpleTrack/bin/pred_cc05.bin\"\n",
    "gt_bin= \"/mnt/data/waymo/validation/ground_truth_objects/gt.bin\"\n",
    "#pklfile_prefix=waymo_root\n",
    "#waymo_root=pklfile_prefix\n",
    "ret_bytes = subprocess.check_output(\n",
    "    '../waymo-open-dataset-master/bin/compute_tracking_metrics_main ' + pred_bin + \" \"+ gt_bin, shell=True)\n",
    "ret_texts = ret_bytes.decode('utf-8')\n",
    "print(ret_texts)"
   ]
  },
  {
   "cell_type": "code",
   "execution_count": 10,
   "id": "6c2e11f9-b2f1-4a96-9b23-b7ffc90e9c0c",
   "metadata": {},
   "outputs": [
    {
     "name": "stdout",
     "output_type": "stream",
     "text": [
      "\n",
      "OBJECT_TYPE_TYPE_VEHICLE_LEVEL_1: [MOTA 0.611739] [MOTP 0.162578] [Miss 0.29723] [Mismatch 0.00108791] [FP 0.0899426]\n",
      "OBJECT_TYPE_TYPE_VEHICLE_LEVEL_2: [MOTA 0.575495] [MOTP 0.163166] [Miss 0.332458] [Mismatch 0.00107355] [FP 0.0909733]\n",
      "OBJECT_TYPE_TYPE_PEDESTRIAN_LEVEL_1: [MOTA 0.615234] [MOTP 0.3066] [Miss 0.279892] [Mismatch 0.0044213] [FP 0.100452]\n",
      "OBJECT_TYPE_TYPE_PEDESTRIAN_LEVEL_2: [MOTA 0.577519] [MOTP 0.308105] [Miss 0.310046] [Mismatch 0.00432551] [FP 0.10811]\n",
      "OBJECT_TYPE_TYPE_SIGN_LEVEL_1: [MOTA 0] [MOTP 0] [Miss 0] [Mismatch 0] [FP 0]\n",
      "OBJECT_TYPE_TYPE_SIGN_LEVEL_2: [MOTA 0] [MOTP 0] [Miss 0] [Mismatch 0] [FP 0]\n",
      "OBJECT_TYPE_TYPE_CYCLIST_LEVEL_1: [MOTA 0.53797] [MOTP 0.244467] [Miss 0.366276] [Mismatch 0.00735948] [FP 0.0883947]\n",
      "OBJECT_TYPE_TYPE_CYCLIST_LEVEL_2: [MOTA 0.536538] [MOTP 0.244467] [Miss 0.367963] [Mismatch 0.00733989] [FP 0.0881594]\n",
      "RANGE_TYPE_VEHICLE_[0, 30)_LEVEL_1: [MOTA 0.877263] [MOTP 0.140977] [Miss 0.0830636] [Mismatch 0.000202676] [FP 0.0394712]\n",
      "RANGE_TYPE_VEHICLE_[0, 30)_LEVEL_2: [MOTA 0.870126] [MOTP 0.141112] [Miss 0.0889483] [Mismatch 0.000203818] [FP 0.0407217]\n",
      "RANGE_TYPE_VEHICLE_[30, 50)_LEVEL_1: [MOTA 0.609702] [MOTP 0.17166] [Miss 0.282847] [Mismatch 0.00104498] [FP 0.106407]\n",
      "RANGE_TYPE_VEHICLE_[30, 50)_LEVEL_2: [MOTA 0.581104] [MOTP 0.17166] [Miss 0.316485] [Mismatch 0.000995965] [FP 0.101416]\n",
      "RANGE_TYPE_VEHICLE_[50, +inf)_LEVEL_1: [MOTA 0.331708] [MOTP 0.19223] [Miss 0.525321] [Mismatch 0.00190926] [FP 0.141061]\n",
      "RANGE_TYPE_VEHICLE_[50, +inf)_LEVEL_2: [MOTA 0.293039] [MOTP 0.192952] [Miss 0.570371] [Mismatch 0.00177343] [FP 0.134816]\n",
      "RANGE_TYPE_PEDESTRIAN_[0, 30)_LEVEL_1: [MOTA 0.732084] [MOTP 0.289309] [Miss 0.183342] [Mismatch 0.00273574] [FP 0.0818387]\n",
      "RANGE_TYPE_PEDESTRIAN_[0, 30)_LEVEL_2: [MOTA 0.69506] [MOTP 0.29028] [Miss 0.215887] [Mismatch 0.00268917] [FP 0.0863636]\n",
      "RANGE_TYPE_PEDESTRIAN_[30, 50)_LEVEL_1: [MOTA 0.606971] [MOTP 0.314768] [Miss 0.276644] [Mismatch 0.00446971] [FP 0.111915]\n",
      "RANGE_TYPE_PEDESTRIAN_[30, 50)_LEVEL_2: [MOTA 0.575969] [MOTP 0.315412] [Miss 0.306366] [Mismatch 0.00430942] [FP 0.113355]\n",
      "RANGE_TYPE_PEDESTRIAN_[50, +inf)_LEVEL_1: [MOTA 0.43332] [MOTP 0.335599] [Miss 0.418947] [Mismatch 0.00617411] [FP 0.141558]\n",
      "RANGE_TYPE_PEDESTRIAN_[50, +inf)_LEVEL_2: [MOTA 0.394247] [MOTP 0.335599] [Miss 0.471342] [Mismatch 0.00561739] [FP 0.128794]\n",
      "RANGE_TYPE_SIGN_[0, 30)_LEVEL_1: [MOTA 0] [MOTP 0] [Miss 0] [Mismatch 0] [FP 0]\n",
      "RANGE_TYPE_SIGN_[0, 30)_LEVEL_2: [MOTA 0] [MOTP 0] [Miss 0] [Mismatch 0] [FP 0]\n",
      "RANGE_TYPE_SIGN_[30, 50)_LEVEL_1: [MOTA 0] [MOTP 0] [Miss 0] [Mismatch 0] [FP 0]\n",
      "RANGE_TYPE_SIGN_[30, 50)_LEVEL_2: [MOTA 0] [MOTP 0] [Miss 0] [Mismatch 0] [FP 0]\n",
      "RANGE_TYPE_SIGN_[50, +inf)_LEVEL_1: [MOTA 0] [MOTP 0] [Miss 0] [Mismatch 0] [FP 0]\n",
      "RANGE_TYPE_SIGN_[50, +inf)_LEVEL_2: [MOTA 0] [MOTP 0] [Miss 0] [Mismatch 0] [FP 0]\n",
      "RANGE_TYPE_CYCLIST_[0, 30)_LEVEL_1: [MOTA 0.693259] [MOTP 0.217148] [Miss 0.223557] [Mismatch 0.00609537] [FP 0.0770886]\n",
      "RANGE_TYPE_CYCLIST_[0, 30)_LEVEL_2: [MOTA 0.693259] [MOTP 0.217148] [Miss 0.223557] [Mismatch 0.00609537] [FP 0.0770886]\n",
      "RANGE_TYPE_CYCLIST_[30, 50)_LEVEL_1: [MOTA 0.513566] [MOTP 0.261709] [Miss 0.407832] [Mismatch 0.00727273] [FP 0.0713287]\n",
      "RANGE_TYPE_CYCLIST_[30, 50)_LEVEL_2: [MOTA 0.510561] [MOTP 0.262851] [Miss 0.402724] [Mismatch 0.00806003] [FP 0.0786548]\n",
      "RANGE_TYPE_CYCLIST_[50, +inf)_LEVEL_1: [MOTA 0.286604] [MOTP 0.301928] [Miss 0.590031] [Mismatch 0.00685358] [FP 0.116511]\n",
      "RANGE_TYPE_CYCLIST_[50, +inf)_LEVEL_2: [MOTA 0.285537] [MOTP 0.301928] [Miss 0.591558] [Mismatch 0.00682806] [FP 0.116077]\n",
      "\n"
     ]
    }
   ],
   "source": [
    "pred_bin =\"/mnt/data/waymo/mot/mot_results/SimpleTrack/bin/pred_cc03.bin\"\n",
    "gt_bin= \"/mnt/data/waymo/validation/ground_truth_objects/gt.bin\"\n",
    "#pklfile_prefix=waymo_root\n",
    "#waymo_root=pklfile_prefix\n",
    "ret_bytes = subprocess.check_output(\n",
    "    '../waymo-open-dataset-master/bin/compute_tracking_metrics_main ' + pred_bin + \" \"+ gt_bin, shell=True)\n",
    "ret_texts = ret_bytes.decode('utf-8')\n",
    "print(ret_texts)"
   ]
  },
  {
   "cell_type": "code",
   "execution_count": 11,
   "id": "95223d67-8a8f-4cf1-8b29-e86ddd11fbd2",
   "metadata": {},
   "outputs": [
    {
     "name": "stdout",
     "output_type": "stream",
     "text": [
      "\n",
      "OBJECT_TYPE_TYPE_VEHICLE_LEVEL_1: [MOTA 0.611739] [MOTP 0.162578] [Miss 0.29723] [Mismatch 0.00108791] [FP 0.0899426]\n",
      "OBJECT_TYPE_TYPE_VEHICLE_LEVEL_2: [MOTA 0.575495] [MOTP 0.163166] [Miss 0.332458] [Mismatch 0.00107355] [FP 0.0909733]\n",
      "OBJECT_TYPE_TYPE_PEDESTRIAN_LEVEL_1: [MOTA 0.615234] [MOTP 0.3066] [Miss 0.279892] [Mismatch 0.0044213] [FP 0.100452]\n",
      "OBJECT_TYPE_TYPE_PEDESTRIAN_LEVEL_2: [MOTA 0.577519] [MOTP 0.308105] [Miss 0.310046] [Mismatch 0.00432551] [FP 0.10811]\n",
      "OBJECT_TYPE_TYPE_SIGN_LEVEL_1: [MOTA 0] [MOTP 0] [Miss 0] [Mismatch 0] [FP 0]\n",
      "OBJECT_TYPE_TYPE_SIGN_LEVEL_2: [MOTA 0] [MOTP 0] [Miss 0] [Mismatch 0] [FP 0]\n",
      "OBJECT_TYPE_TYPE_CYCLIST_LEVEL_1: [MOTA 0.538132] [MOTP 0.244201] [Miss 0.366195] [Mismatch 0.00735948] [FP 0.0883138]\n",
      "OBJECT_TYPE_TYPE_CYCLIST_LEVEL_2: [MOTA 0.536699] [MOTP 0.244201] [Miss 0.367882] [Mismatch 0.00733989] [FP 0.0880787]\n",
      "RANGE_TYPE_VEHICLE_[0, 30)_LEVEL_1: [MOTA 0.877263] [MOTP 0.140977] [Miss 0.0830636] [Mismatch 0.000202676] [FP 0.0394712]\n",
      "RANGE_TYPE_VEHICLE_[0, 30)_LEVEL_2: [MOTA 0.870126] [MOTP 0.141112] [Miss 0.0889483] [Mismatch 0.000203818] [FP 0.0407217]\n",
      "RANGE_TYPE_VEHICLE_[30, 50)_LEVEL_1: [MOTA 0.609702] [MOTP 0.17166] [Miss 0.282847] [Mismatch 0.00104498] [FP 0.106407]\n",
      "RANGE_TYPE_VEHICLE_[30, 50)_LEVEL_2: [MOTA 0.581104] [MOTP 0.17166] [Miss 0.316485] [Mismatch 0.000995965] [FP 0.101416]\n",
      "RANGE_TYPE_VEHICLE_[50, +inf)_LEVEL_1: [MOTA 0.331708] [MOTP 0.19223] [Miss 0.525321] [Mismatch 0.00190926] [FP 0.141061]\n",
      "RANGE_TYPE_VEHICLE_[50, +inf)_LEVEL_2: [MOTA 0.293039] [MOTP 0.192952] [Miss 0.570371] [Mismatch 0.00177343] [FP 0.134816]\n",
      "RANGE_TYPE_PEDESTRIAN_[0, 30)_LEVEL_1: [MOTA 0.732084] [MOTP 0.289309] [Miss 0.183342] [Mismatch 0.00273574] [FP 0.0818387]\n",
      "RANGE_TYPE_PEDESTRIAN_[0, 30)_LEVEL_2: [MOTA 0.69506] [MOTP 0.29028] [Miss 0.215887] [Mismatch 0.00268917] [FP 0.0863636]\n",
      "RANGE_TYPE_PEDESTRIAN_[30, 50)_LEVEL_1: [MOTA 0.606971] [MOTP 0.314768] [Miss 0.276644] [Mismatch 0.00446971] [FP 0.111915]\n",
      "RANGE_TYPE_PEDESTRIAN_[30, 50)_LEVEL_2: [MOTA 0.575969] [MOTP 0.315412] [Miss 0.306366] [Mismatch 0.00430942] [FP 0.113355]\n",
      "RANGE_TYPE_PEDESTRIAN_[50, +inf)_LEVEL_1: [MOTA 0.43332] [MOTP 0.335599] [Miss 0.418947] [Mismatch 0.00617411] [FP 0.141558]\n",
      "RANGE_TYPE_PEDESTRIAN_[50, +inf)_LEVEL_2: [MOTA 0.394247] [MOTP 0.335599] [Miss 0.471342] [Mismatch 0.00561739] [FP 0.128794]\n",
      "RANGE_TYPE_SIGN_[0, 30)_LEVEL_1: [MOTA 0] [MOTP 0] [Miss 0] [Mismatch 0] [FP 0]\n",
      "RANGE_TYPE_SIGN_[0, 30)_LEVEL_2: [MOTA 0] [MOTP 0] [Miss 0] [Mismatch 0] [FP 0]\n",
      "RANGE_TYPE_SIGN_[30, 50)_LEVEL_1: [MOTA 0] [MOTP 0] [Miss 0] [Mismatch 0] [FP 0]\n",
      "RANGE_TYPE_SIGN_[30, 50)_LEVEL_2: [MOTA 0] [MOTP 0] [Miss 0] [Mismatch 0] [FP 0]\n",
      "RANGE_TYPE_SIGN_[50, +inf)_LEVEL_1: [MOTA 0] [MOTP 0] [Miss 0] [Mismatch 0] [FP 0]\n",
      "RANGE_TYPE_SIGN_[50, +inf)_LEVEL_2: [MOTA 0] [MOTP 0] [Miss 0] [Mismatch 0] [FP 0]\n",
      "RANGE_TYPE_CYCLIST_[0, 30)_LEVEL_1: [MOTA 0.693259] [MOTP 0.217175] [Miss 0.223557] [Mismatch 0.00609537] [FP 0.0770886]\n",
      "RANGE_TYPE_CYCLIST_[0, 30)_LEVEL_2: [MOTA 0.693259] [MOTP 0.217175] [Miss 0.223557] [Mismatch 0.00609537] [FP 0.0770886]\n",
      "RANGE_TYPE_CYCLIST_[30, 50)_LEVEL_1: [MOTA 0.513566] [MOTP 0.261576] [Miss 0.407832] [Mismatch 0.00727273] [FP 0.0713287]\n",
      "RANGE_TYPE_CYCLIST_[30, 50)_LEVEL_2: [MOTA 0.510561] [MOTP 0.262728] [Miss 0.402724] [Mismatch 0.00806003] [FP 0.0786548]\n",
      "RANGE_TYPE_CYCLIST_[50, +inf)_LEVEL_1: [MOTA 0.287227] [MOTP 0.300416] [Miss 0.58972] [Mismatch 0.00685358] [FP 0.116199]\n",
      "RANGE_TYPE_CYCLIST_[50, +inf)_LEVEL_2: [MOTA 0.286158] [MOTP 0.300416] [Miss 0.591248] [Mismatch 0.00682806] [FP 0.115767]\n",
      "\n"
     ]
    }
   ],
   "source": [
    "pred_bin =\"/mnt/data/waymo/mot/mot_results/SimpleTrack/bin/pred.bin\"\n",
    "gt_bin= \"/mnt/data/waymo/validation/ground_truth_objects/gt.bin\"\n",
    "#pklfile_prefix=waymo_root\n",
    "#waymo_root=pklfile_prefix\n",
    "ret_bytes = subprocess.check_output(\n",
    "    '../waymo-open-dataset-master/bin/compute_tracking_metrics_main ' + pred_bin + \" \"+ gt_bin, shell=True)\n",
    "ret_texts = ret_bytes.decode('utf-8')\n",
    "print(ret_texts)"
   ]
  },
  {
   "cell_type": "markdown",
   "id": "2065ac56",
   "metadata": {},
   "source": [
    "## centerpoint & simpletrack results"
   ]
  },
  {
   "cell_type": "code",
   "execution_count": 13,
   "id": "2941d336-7657-4a11-97ef-b8122cc70a68",
   "metadata": {},
   "outputs": [
    {
     "name": "stdout",
     "output_type": "stream",
     "text": [
      "\n",
      "OBJECT_TYPE_TYPE_VEHICLE_LEVEL_1: [MOTA 0.596801] [MOTP 0.168171] [Miss 0.292306] [Mismatch 0.000832023] [FP 0.110061]\n",
      "OBJECT_TYPE_TYPE_VEHICLE_LEVEL_2: [MOTA 0.561253] [MOTP 0.168171] [Miss 0.334459] [Mismatch 0.000782465] [FP 0.103505]\n",
      "OBJECT_TYPE_TYPE_PEDESTRIAN_LEVEL_1: [MOTA 0.616779] [MOTP 0.311344] [Miss 0.273829] [Mismatch 0.00439254] [FP 0.104999]\n",
      "OBJECT_TYPE_TYPE_PEDESTRIAN_LEVEL_2: [MOTA 0.577612] [MOTP 0.312544] [Miss 0.309003] [Mismatch 0.00425679] [FP 0.109128]\n",
      "OBJECT_TYPE_TYPE_SIGN_LEVEL_1: [MOTA 0] [MOTP 0] [Miss 0] [Mismatch 0] [FP 0]\n",
      "OBJECT_TYPE_TYPE_SIGN_LEVEL_2: [MOTA 0] [MOTP 0] [Miss 0] [Mismatch 0] [FP 0]\n",
      "OBJECT_TYPE_TYPE_CYCLIST_LEVEL_1: [MOTA 0.56949] [MOTP 0.273394] [Miss 0.308407] [Mismatch 0.00565291] [FP 0.11645]\n",
      "OBJECT_TYPE_TYPE_CYCLIST_LEVEL_2: [MOTA 0.568801] [MOTP 0.273394] [Miss 0.309243] [Mismatch 0.00564607] [FP 0.116309]\n",
      "RANGE_TYPE_VEHICLE_[0, 30)_LEVEL_1: [MOTA 0.862584] [MOTP 0.146314] [Miss 0.0862297] [Mismatch 0.000163319] [FP 0.0510231]\n",
      "RANGE_TYPE_VEHICLE_[0, 30)_LEVEL_2: [MOTA 0.855287] [MOTP 0.146314] [Miss 0.09396] [Mismatch 0.000161937] [FP 0.0505915]\n",
      "RANGE_TYPE_VEHICLE_[30, 50)_LEVEL_1: [MOTA 0.595852] [MOTP 0.176652] [Miss 0.277978] [Mismatch 0.000759069] [FP 0.125411]\n",
      "RANGE_TYPE_VEHICLE_[30, 50)_LEVEL_2: [MOTA 0.567819] [MOTP 0.176652] [Miss 0.311948] [Mismatch 0.000723357] [FP 0.11951]\n",
      "RANGE_TYPE_VEHICLE_[50, +inf)_LEVEL_1: [MOTA 0.314798] [MOTP 0.196844] [Miss 0.531733] [Mismatch 0.00133472] [FP 0.152135]\n",
      "RANGE_TYPE_VEHICLE_[50, +inf)_LEVEL_2: [MOTA 0.277395] [MOTP 0.197552] [Miss 0.576223] [Mismatch 0.00124647] [FP 0.145135]\n",
      "RANGE_TYPE_PEDESTRIAN_[0, 30)_LEVEL_1: [MOTA 0.719082] [MOTP 0.294251] [Miss 0.19576] [Mismatch 0.00321953] [FP 0.0819388]\n",
      "RANGE_TYPE_PEDESTRIAN_[0, 30)_LEVEL_2: [MOTA 0.679305] [MOTP 0.295498] [Miss 0.229136] [Mismatch 0.00316199] [FP 0.0883977]\n",
      "RANGE_TYPE_PEDESTRIAN_[30, 50)_LEVEL_1: [MOTA 0.603886] [MOTP 0.317522] [Miss 0.2742] [Mismatch 0.00453454] [FP 0.11738]\n",
      "RANGE_TYPE_PEDESTRIAN_[30, 50)_LEVEL_2: [MOTA 0.572227] [MOTP 0.317522] [Miss 0.31225] [Mismatch 0.00429682] [FP 0.111226]\n",
      "RANGE_TYPE_PEDESTRIAN_[50, +inf)_LEVEL_1: [MOTA 0.464432] [MOTP 0.339442] [Miss 0.388455] [Mismatch 0.00543577] [FP 0.141678]\n",
      "RANGE_TYPE_PEDESTRIAN_[50, +inf)_LEVEL_2: [MOTA 0.422454] [MOTP 0.340186] [Miss 0.435291] [Mismatch 0.00505339] [FP 0.137201]\n",
      "RANGE_TYPE_SIGN_[0, 30)_LEVEL_1: [MOTA 0] [MOTP 0] [Miss 0] [Mismatch 0] [FP 0]\n",
      "RANGE_TYPE_SIGN_[0, 30)_LEVEL_2: [MOTA 0] [MOTP 0] [Miss 0] [Mismatch 0] [FP 0]\n",
      "RANGE_TYPE_SIGN_[30, 50)_LEVEL_1: [MOTA 0] [MOTP 0] [Miss 0] [Mismatch 0] [FP 0]\n",
      "RANGE_TYPE_SIGN_[30, 50)_LEVEL_2: [MOTA 0] [MOTP 0] [Miss 0] [Mismatch 0] [FP 0]\n",
      "RANGE_TYPE_SIGN_[50, +inf)_LEVEL_1: [MOTA 0] [MOTP 0] [Miss 0] [Mismatch 0] [FP 0]\n",
      "RANGE_TYPE_SIGN_[50, +inf)_LEVEL_2: [MOTA 0] [MOTP 0] [Miss 0] [Mismatch 0] [FP 0]\n",
      "RANGE_TYPE_CYCLIST_[0, 30)_LEVEL_1: [MOTA 0.706705] [MOTP 0.249466] [Miss 0.204195] [Mismatch 0.00376479] [FP 0.0853352]\n",
      "RANGE_TYPE_CYCLIST_[0, 30)_LEVEL_2: [MOTA 0.706705] [MOTP 0.249466] [Miss 0.204195] [Mismatch 0.00376479] [FP 0.0853352]\n",
      "RANGE_TYPE_CYCLIST_[30, 50)_LEVEL_1: [MOTA 0.533203] [MOTP 0.285702] [Miss 0.350725] [Mismatch 0.00530134] [FP 0.11077]\n",
      "RANGE_TYPE_CYCLIST_[30, 50)_LEVEL_2: [MOTA 0.531128] [MOTP 0.285702] [Miss 0.353252] [Mismatch 0.00528071] [FP 0.110339]\n",
      "RANGE_TYPE_CYCLIST_[50, +inf)_LEVEL_1: [MOTA 0.358297] [MOTP 0.315382] [Miss 0.456495] [Mismatch 0.00683654] [FP 0.178372]\n",
      "RANGE_TYPE_CYCLIST_[50, +inf)_LEVEL_2: [MOTA 0.357852] [MOTP 0.315382] [Miss 0.457169] [Mismatch 0.00682806] [FP 0.17815]\n",
      "\n"
     ]
    }
   ],
   "source": [
    "pred_bin =\"/mnt/data/waymo/mot/mot_results/st_cp/bin/pred.bin\"\n",
    "gt_bin= \"/mnt/data/waymo/validation/ground_truth_objects/gt.bin\"\n",
    "#pklfile_prefix=waymo_root\n",
    "#waymo_root=pklfile_prefix\n",
    "ret_bytes = subprocess.check_output(\n",
    "    '../waymo-open-dataset-master/bin/compute_tracking_metrics_main ' + pred_bin + \" \"+ gt_bin, shell=True)\n",
    "ret_texts = ret_bytes.decode('utf-8')\n",
    "print(ret_texts)"
   ]
  },
  {
   "cell_type": "markdown",
   "id": "fa9e23c4",
   "metadata": {},
   "source": [
    "## mppnet & simpletrack results"
   ]
  },
  {
   "cell_type": "code",
   "execution_count": 2,
   "id": "3b6d5793-2e31-4680-962c-107023359bab",
   "metadata": {},
   "outputs": [
    {
     "name": "stdout",
     "output_type": "stream",
     "text": [
      "\n",
      "OBJECT_TYPE_TYPE_VEHICLE_LEVEL_1: [MOTA 0.623363] [MOTP 0.164939] [Miss 0.270369] [Mismatch 0.000732523] [FP 0.105536]\n",
      "OBJECT_TYPE_TYPE_VEHICLE_LEVEL_2: [MOTA 0.588006] [MOTP 0.165229] [Miss 0.308038] [Mismatch 0.000718372] [FP 0.103237]\n",
      "OBJECT_TYPE_TYPE_PEDESTRIAN_LEVEL_1: [MOTA 0.654074] [MOTP 0.304352] [Miss 0.237839] [Mismatch 0.00300189] [FP 0.105085]\n",
      "OBJECT_TYPE_TYPE_PEDESTRIAN_LEVEL_2: [MOTA 0.615779] [MOTP 0.305147] [Miss 0.274739] [Mismatch 0.00292477] [FP 0.106557]\n",
      "OBJECT_TYPE_TYPE_SIGN_LEVEL_1: [MOTA 0] [MOTP 0] [Miss 0] [Mismatch 0] [FP 0]\n",
      "OBJECT_TYPE_TYPE_SIGN_LEVEL_2: [MOTA 0] [MOTP 0] [Miss 0] [Mismatch 0] [FP 0]\n",
      "OBJECT_TYPE_TYPE_CYCLIST_LEVEL_1: [MOTA 0.612153] [MOTP 0.257823] [Miss 0.295976] [Mismatch 0.00589851] [FP 0.0859729]\n",
      "OBJECT_TYPE_TYPE_CYCLIST_LEVEL_2: [MOTA 0.611066] [MOTP 0.257823] [Miss 0.297225] [Mismatch 0.00588805] [FP 0.0858203]\n",
      "RANGE_TYPE_VEHICLE_[0, 30)_LEVEL_1: [MOTA 0.873564] [MOTP 0.143938] [Miss 0.0810113] [Mismatch 0.00012951] [FP 0.0452947]\n",
      "RANGE_TYPE_VEHICLE_[0, 30)_LEVEL_2: [MOTA 0.866301] [MOTP 0.143938] [Miss 0.0886524] [Mismatch 0.000128433] [FP 0.0449181]\n",
      "RANGE_TYPE_VEHICLE_[30, 50)_LEVEL_1: [MOTA 0.623753] [MOTP 0.172127] [Miss 0.249404] [Mismatch 0.000754007] [FP 0.126089]\n",
      "RANGE_TYPE_VEHICLE_[30, 50)_LEVEL_2: [MOTA 0.596165] [MOTP 0.172127] [Miss 0.282603] [Mismatch 0.000720658] [FP 0.120512]\n",
      "RANGE_TYPE_VEHICLE_[50, +inf)_LEVEL_1: [MOTA 0.356588] [MOTP 0.192364] [Miss 0.485131] [Mismatch 0.0012425] [FP 0.157038]\n",
      "RANGE_TYPE_VEHICLE_[50, +inf)_LEVEL_2: [MOTA 0.316284] [MOTP 0.192364] [Miss 0.543326] [Mismatch 0.00110206] [FP 0.139288]\n",
      "RANGE_TYPE_PEDESTRIAN_[0, 30)_LEVEL_1: [MOTA 0.752303] [MOTP 0.287371] [Miss 0.17213] [Mismatch 0.00182134] [FP 0.0737462]\n",
      "RANGE_TYPE_PEDESTRIAN_[0, 30)_LEVEL_2: [MOTA 0.714914] [MOTP 0.288499] [Miss 0.203042] [Mismatch 0.00185188] [FP 0.0801923]\n",
      "RANGE_TYPE_PEDESTRIAN_[30, 50)_LEVEL_1: [MOTA 0.643148] [MOTP 0.309421] [Miss 0.242558] [Mismatch 0.00284046] [FP 0.111453]\n",
      "RANGE_TYPE_PEDESTRIAN_[30, 50)_LEVEL_2: [MOTA 0.612007] [MOTP 0.310142] [Miss 0.271103] [Mismatch 0.00278474] [FP 0.114105]\n",
      "RANGE_TYPE_PEDESTRIAN_[50, +inf)_LEVEL_1: [MOTA 0.505737] [MOTP 0.330876] [Miss 0.340519] [Mismatch 0.00418658] [FP 0.149557]\n",
      "RANGE_TYPE_PEDESTRIAN_[50, +inf)_LEVEL_2: [MOTA 0.462618] [MOTP 0.33185] [Miss 0.385321] [Mismatch 0.0040006] [FP 0.14806]\n",
      "RANGE_TYPE_SIGN_[0, 30)_LEVEL_1: [MOTA 0] [MOTP 0] [Miss 0] [Mismatch 0] [FP 0]\n",
      "RANGE_TYPE_SIGN_[0, 30)_LEVEL_2: [MOTA 0] [MOTP 0] [Miss 0] [Mismatch 0] [FP 0]\n",
      "RANGE_TYPE_SIGN_[30, 50)_LEVEL_1: [MOTA 0] [MOTP 0] [Miss 0] [Mismatch 0] [FP 0]\n",
      "RANGE_TYPE_SIGN_[30, 50)_LEVEL_2: [MOTA 0] [MOTP 0] [Miss 0] [Mismatch 0] [FP 0]\n",
      "RANGE_TYPE_SIGN_[50, +inf)_LEVEL_1: [MOTA 0] [MOTP 0] [Miss 0] [Mismatch 0] [FP 0]\n",
      "RANGE_TYPE_SIGN_[50, +inf)_LEVEL_2: [MOTA 0] [MOTP 0] [Miss 0] [Mismatch 0] [FP 0]\n",
      "RANGE_TYPE_CYCLIST_[0, 30)_LEVEL_1: [MOTA 0.751882] [MOTP 0.233212] [Miss 0.184654] [Mismatch 0.00340624] [FP 0.0600574]\n",
      "RANGE_TYPE_CYCLIST_[0, 30)_LEVEL_2: [MOTA 0.751882] [MOTP 0.233212] [Miss 0.184654] [Mismatch 0.00340624] [FP 0.0600574]\n",
      "RANGE_TYPE_CYCLIST_[30, 50)_LEVEL_1: [MOTA 0.566248] [MOTP 0.271781] [Miss 0.354812] [Mismatch 0.00502092] [FP 0.0739191]\n",
      "RANGE_TYPE_CYCLIST_[30, 50)_LEVEL_2: [MOTA 0.564202] [MOTP 0.271781] [Miss 0.357143] [Mismatch 0.00500278] [FP 0.073652]\n",
      "RANGE_TYPE_CYCLIST_[50, +inf)_LEVEL_1: [MOTA 0.416926] [MOTP 0.300526] [Miss 0.414126] [Mismatch 0.00840075] [FP 0.160548]\n",
      "RANGE_TYPE_CYCLIST_[50, +inf)_LEVEL_2: [MOTA 0.415891] [MOTP 0.300526] [Miss 0.41558] [Mismatch 0.00837989] [FP 0.160149]\n",
      "\n"
     ]
    }
   ],
   "source": [
    "pred_bin =\"/mnt/data/waymo/mot/mot_results/st_mppnet/bin/pred.bin\"\n",
    "gt_bin= \"/mnt/data/waymo/validation/ground_truth_objects/gt.bin\"\n",
    "#pklfile_prefix=waymo_root\n",
    "#waymo_root=pklfile_prefix\n",
    "ret_bytes = subprocess.check_output(\n",
    "    '../waymo-open-dataset-master/bin/compute_tracking_metrics_main ' + pred_bin + \" \"+ gt_bin, shell=True)\n",
    "ret_texts = ret_bytes.decode('utf-8')\n",
    "print(ret_texts)"
   ]
  },
  {
   "cell_type": "code",
   "execution_count": null,
   "id": "448a5bd2",
   "metadata": {},
   "outputs": [],
   "source": []
  }
 ],
 "metadata": {
  "kernelspec": {
   "display_name": "Python 3.8.13 ('pcdet')",
   "language": "python",
   "name": "python3"
  },
  "language_info": {
   "codemirror_mode": {
    "name": "ipython",
    "version": 3
   },
   "file_extension": ".py",
   "mimetype": "text/x-python",
   "name": "python",
   "nbconvert_exporter": "python",
   "pygments_lexer": "ipython3",
   "version": "3.8.13"
  },
  "vscode": {
   "interpreter": {
    "hash": "5424583fd6fa2523e64439857a89e251f5ab55236bb4dd619292b85c6aa4df5c"
   }
  }
 },
 "nbformat": 4,
 "nbformat_minor": 5
}
