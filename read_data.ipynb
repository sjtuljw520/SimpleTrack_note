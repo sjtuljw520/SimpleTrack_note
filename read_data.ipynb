{
 "cells": [
  {
   "cell_type": "code",
   "execution_count": 1,
   "id": "8990ca00-7f28-43b0-882b-233b42488050",
   "metadata": {},
   "outputs": [],
   "source": [
    "import numpy as np\n",
    "import json"
   ]
  },
  {
   "cell_type": "code",
   "execution_count": 2,
   "id": "664ac701-51a2-4d05-9442-7b15117fe077",
   "metadata": {},
   "outputs": [],
   "source": [
    "ts_info_file = '/mnt/data/waymo/mot_demo/demo_data/ts_info/segment-10203656353524179475_7625_000_7645_000_with_camera_labels.json'"
   ]
  },
  {
   "cell_type": "code",
   "execution_count": 3,
   "id": "7e949333-abe2-4cc5-b041-a56b64118f3d",
   "metadata": {},
   "outputs": [],
   "source": [
    "ego_info_file = '/mnt/data/waymo/mot_demo/demo_data/ego_info/segment-10203656353524179475_7625_000_7645_000_with_camera_labels.npz'\n",
    "pc_file = '/mnt/data/waymo/mot_demo/demo_data/pc/raw_pc/segment-10203656353524179475_7625_000_7645_000_with_camera_labels.npz'\n",
    "dt_file = '/mnt/data/waymo/mot_demo/demo_data/detection/cp/dets/segment-10203656353524179475_7625_000_7645_000_with_camera_labels.npz'\n",
    "res_file = '/mnt/data/waymo/mot_demo/mot_results/demo/summary/vehicle/segment-10203656353524179475_7625_000_7645_000_with_camera_labels.npz'"
   ]
  },
  {
   "cell_type": "code",
   "execution_count": 28,
   "id": "5dd9613e-3afc-47a0-8830-1812ba2283f2",
   "metadata": {},
   "outputs": [],
   "source": [
    "ts_info = json.load(open(ts_info_file))\n",
    "ego_info = np.load(ego_info_file)\n",
    "pc = np.load(pc_file)\n",
    "dt = np.load(dt_file, allow_pickle=True)\n",
    "res = np.load(res_file, allow_pickle=True)"
   ]
  },
  {
   "cell_type": "code",
   "execution_count": 9,
   "id": "72b06caf-b98a-442f-968c-7bd38da642c4",
   "metadata": {},
   "outputs": [
    {
     "data": {
      "text/plain": [
       "198"
      ]
     },
     "execution_count": 9,
     "metadata": {},
     "output_type": "execute_result"
    }
   ],
   "source": [
    "len(ts_info)"
   ]
  },
  {
   "cell_type": "code",
   "execution_count": 13,
   "id": "aeb3b1b6-0034-4393-a82a-27bf9a707241",
   "metadata": {},
   "outputs": [
    {
     "data": {
      "text/plain": [
       "(4, 4)"
      ]
     },
     "execution_count": 13,
     "metadata": {},
     "output_type": "execute_result"
    }
   ],
   "source": [
    "ego_info['0'].shape"
   ]
  },
  {
   "cell_type": "code",
   "execution_count": 14,
   "id": "57d25530-d0ae-40d4-b7e5-f7343b5f8874",
   "metadata": {},
   "outputs": [
    {
     "data": {
      "text/plain": [
       "198"
      ]
     },
     "execution_count": 14,
     "metadata": {},
     "output_type": "execute_result"
    }
   ],
   "source": [
    "len(ego_info)"
   ]
  },
  {
   "cell_type": "code",
   "execution_count": 21,
   "id": "ff751440-a4ac-4a0d-b466-6b6c9ae10e4c",
   "metadata": {
    "tags": []
   },
   "outputs": [
    {
     "data": {
      "text/plain": [
       "['0', '1', '2', '3', '4']"
      ]
     },
     "execution_count": 21,
     "metadata": {},
     "output_type": "execute_result"
    }
   ],
   "source": [
    "pc.files[:5]"
   ]
  },
  {
   "cell_type": "code",
   "execution_count": 29,
   "id": "4e2f1bc8-b9ae-4b3e-aa5c-c1d882a27b22",
   "metadata": {},
   "outputs": [
    {
     "data": {
      "text/plain": [
       "['bboxes', 'types']"
      ]
     },
     "execution_count": 29,
     "metadata": {},
     "output_type": "execute_result"
    }
   ],
   "source": [
    "dt.files"
   ]
  },
  {
   "cell_type": "code",
   "execution_count": 30,
   "id": "e2cbfc6d-230a-4859-a3c5-890744efce1e",
   "metadata": {},
   "outputs": [
    {
     "data": {
      "text/plain": [
       "['ids', 'bboxes', 'states']"
      ]
     },
     "execution_count": 30,
     "metadata": {},
     "output_type": "execute_result"
    }
   ],
   "source": [
    "res.files"
   ]
  },
  {
   "cell_type": "code",
   "execution_count": 25,
   "id": "a96e431e-8008-430a-8d21-81bd99e604e5",
   "metadata": {},
   "outputs": [
    {
     "data": {
      "text/plain": [
       "(132921, 3)"
      ]
     },
     "execution_count": 25,
     "metadata": {},
     "output_type": "execute_result"
    }
   ],
   "source": [
    "pc['111'].shape"
   ]
  },
  {
   "cell_type": "code",
   "execution_count": 55,
   "id": "14253e85-196e-42ed-af17-43c9741b2627",
   "metadata": {},
   "outputs": [
    {
     "data": {
      "text/plain": [
       "array([-24.55960083,  15.86034012,   0.89315742,  -3.11765575,\n",
       "         7.06777048,   2.69797325,   2.27727723,   0.93184638])"
      ]
     },
     "execution_count": 55,
     "metadata": {},
     "output_type": "execute_result"
    }
   ],
   "source": [
    "dt['bboxes'][160][0]"
   ]
  },
  {
   "cell_type": "code",
   "execution_count": 91,
   "id": "913daf2b-1206-4043-b846-0792b730432f",
   "metadata": {
    "collapsed": true,
    "jupyter": {
     "outputs_hidden": true
    },
    "tags": []
   },
   "outputs": [
    {
     "data": {
      "text/plain": [
       "[1,\n",
       " 1,\n",
       " 1,\n",
       " 1,\n",
       " 2,\n",
       " 2,\n",
       " 1,\n",
       " 1,\n",
       " 1,\n",
       " 1,\n",
       " 2,\n",
       " 1,\n",
       " 1,\n",
       " 1,\n",
       " 1,\n",
       " 1,\n",
       " 1,\n",
       " 2,\n",
       " 1,\n",
       " 1,\n",
       " 2,\n",
       " 1,\n",
       " 2,\n",
       " 1,\n",
       " 1,\n",
       " 4,\n",
       " 1,\n",
       " 2,\n",
       " 1,\n",
       " 4,\n",
       " 1,\n",
       " 1,\n",
       " 1,\n",
       " 2,\n",
       " 1,\n",
       " 4,\n",
       " 1,\n",
       " 1,\n",
       " 1,\n",
       " 2,\n",
       " 1,\n",
       " 2,\n",
       " 1,\n",
       " 2,\n",
       " 2,\n",
       " 2,\n",
       " 1,\n",
       " 1,\n",
       " 4,\n",
       " 1,\n",
       " 2,\n",
       " 2,\n",
       " 1,\n",
       " 1,\n",
       " 1,\n",
       " 2,\n",
       " 2,\n",
       " 2,\n",
       " 4,\n",
       " 1,\n",
       " 1,\n",
       " 1,\n",
       " 2,\n",
       " 2,\n",
       " 1,\n",
       " 1,\n",
       " 1,\n",
       " 1,\n",
       " 1,\n",
       " 1,\n",
       " 1,\n",
       " 1,\n",
       " 2,\n",
       " 1,\n",
       " 1,\n",
       " 1,\n",
       " 2,\n",
       " 1,\n",
       " 1,\n",
       " 1,\n",
       " 1,\n",
       " 2,\n",
       " 2,\n",
       " 2,\n",
       " 1,\n",
       " 1,\n",
       " 1,\n",
       " 2,\n",
       " 1,\n",
       " 2,\n",
       " 4,\n",
       " 2,\n",
       " 2,\n",
       " 1,\n",
       " 1,\n",
       " 1,\n",
       " 1,\n",
       " 1,\n",
       " 1,\n",
       " 1,\n",
       " 2,\n",
       " 1,\n",
       " 1,\n",
       " 1,\n",
       " 2,\n",
       " 1,\n",
       " 1,\n",
       " 1,\n",
       " 1,\n",
       " 2,\n",
       " 1,\n",
       " 1,\n",
       " 2,\n",
       " 2,\n",
       " 1,\n",
       " 1,\n",
       " 1,\n",
       " 1,\n",
       " 2,\n",
       " 1,\n",
       " 1,\n",
       " 1,\n",
       " 2,\n",
       " 1,\n",
       " 1,\n",
       " 2,\n",
       " 4,\n",
       " 1,\n",
       " 1,\n",
       " 1,\n",
       " 1,\n",
       " 1,\n",
       " 1,\n",
       " 2,\n",
       " 1,\n",
       " 2,\n",
       " 1,\n",
       " 1,\n",
       " 1,\n",
       " 1,\n",
       " 1,\n",
       " 1,\n",
       " 2,\n",
       " 1,\n",
       " 1,\n",
       " 1,\n",
       " 2,\n",
       " 1,\n",
       " 2,\n",
       " 1,\n",
       " 1,\n",
       " 1,\n",
       " 1,\n",
       " 1,\n",
       " 1,\n",
       " 1,\n",
       " 1,\n",
       " 2,\n",
       " 2,\n",
       " 1,\n",
       " 2,\n",
       " 2,\n",
       " 1,\n",
       " 1,\n",
       " 1,\n",
       " 2,\n",
       " 1,\n",
       " 1,\n",
       " 1,\n",
       " 2,\n",
       " 1,\n",
       " 1,\n",
       " 2,\n",
       " 1]"
      ]
     },
     "execution_count": 91,
     "metadata": {},
     "output_type": "execute_result"
    }
   ],
   "source": [
    "dt['types'][180]"
   ]
  },
  {
   "cell_type": "code",
   "execution_count": 68,
   "id": "c996be13-e5d3-4e9f-90de-af69ce81c221",
   "metadata": {},
   "outputs": [
    {
     "data": {
      "text/plain": [
       "9"
      ]
     },
     "execution_count": 68,
     "metadata": {},
     "output_type": "execute_result"
    }
   ],
   "source": [
    "len(res['ids'][1])"
   ]
  },
  {
   "cell_type": "code",
   "execution_count": 69,
   "id": "83cc3cf2-e5da-4dc5-ac63-c9b4cccd9482",
   "metadata": {},
   "outputs": [
    {
     "data": {
      "text/plain": [
       "9"
      ]
     },
     "execution_count": 69,
     "metadata": {},
     "output_type": "execute_result"
    }
   ],
   "source": [
    "len(res['bboxes'][1])"
   ]
  },
  {
   "cell_type": "code",
   "execution_count": 72,
   "id": "f253c9c6-b82e-4015-9479-d2eae54780b4",
   "metadata": {
    "collapsed": true,
    "jupyter": {
     "outputs_hidden": true
    },
    "tags": []
   },
   "outputs": [
    {
     "data": {
      "text/plain": [
       "['alive_1_0',\n",
       " 'alive_1_0',\n",
       " 'alive_1_0',\n",
       " 'alive_1_0',\n",
       " 'alive_1_0',\n",
       " 'alive_1_0',\n",
       " 'alive_1_0',\n",
       " 'alive_1_0']"
      ]
     },
     "execution_count": 72,
     "metadata": {},
     "output_type": "execute_result"
    }
   ],
   "source": [
    "res['states'][0]"
   ]
  },
  {
   "cell_type": "code",
   "execution_count": 74,
   "id": "dcc11bc0-b48b-4305-9537-906439cbd09a",
   "metadata": {
    "tags": []
   },
   "outputs": [],
   "source": [
    "res_pd_file = '/mnt/data/waymo/mot_demo/mot_results/demo/summary/pedestrian/segment-10203656353524179475_7625_000_7645_000_with_camera_labels.npz'"
   ]
  },
  {
   "cell_type": "code",
   "execution_count": 75,
   "id": "6f468878-61b2-47cd-a88b-5d182c2b4e5f",
   "metadata": {},
   "outputs": [],
   "source": [
    "res_pd = np.load(res_pd_file, allow_pickle=True)"
   ]
  },
  {
   "cell_type": "code",
   "execution_count": 76,
   "id": "7d106918-5e76-43b6-a7d0-ca822bb408cf",
   "metadata": {},
   "outputs": [
    {
     "data": {
      "text/plain": [
       "['ids', 'bboxes', 'states']"
      ]
     },
     "execution_count": 76,
     "metadata": {},
     "output_type": "execute_result"
    }
   ],
   "source": [
    "res_pd.files"
   ]
  },
  {
   "cell_type": "code",
   "execution_count": 90,
   "id": "bd835cbe-e4f4-4f8a-b97e-35a04f0aac30",
   "metadata": {
    "collapsed": true,
    "jupyter": {
     "outputs_hidden": true
    },
    "tags": []
   },
   "outputs": [
    {
     "data": {
      "text/plain": [
       "array([list([]), list([]), list([]), list([]), list([]), list([]),\n",
       "       list([]), list([0]), list([0]), list([0, 1]), list([0, 1, 2]),\n",
       "       list([0, 1, 2]), list([0, 1, 2]), list([1, 2]), list([1]),\n",
       "       list([1]), list([1]), list([]), list([]), list([]), list([]),\n",
       "       list([3]), list([3]), list([3]), list([3]), list([3]), list([3]),\n",
       "       list([3]), list([3]), list([]), list([4]), list([4]), list([4]),\n",
       "       list([4]), list([4]), list([]), list([]), list([]), list([]),\n",
       "       list([]), list([]), list([]), list([5]), list([5]), list([]),\n",
       "       list([]), list([]), list([]), list([6]), list([6]), list([]),\n",
       "       list([]), list([]), list([]), list([]), list([]), list([]),\n",
       "       list([]), list([]), list([7]), list([7, 8, 9]), list([8, 9, 10]),\n",
       "       list([8, 9, 10]), list([8, 9, 10]), list([8, 9, 10, 11]),\n",
       "       list([8, 9, 10, 11]), list([8, 9, 10, 11]),\n",
       "       list([8, 9, 10, 11, 12]), list([8, 9, 10, 11, 12]),\n",
       "       list([8, 9, 10, 12]), list([8, 9, 10, 12]), list([8, 9, 10, 12]),\n",
       "       list([8, 9, 10, 12, 13]), list([8, 9, 10, 12, 13, 14]),\n",
       "       list([8, 9, 10, 12, 13, 14]), list([8, 9, 10, 12, 13]),\n",
       "       list([8, 9, 10, 12, 13]), list([8, 9, 10, 12, 13]),\n",
       "       list([8, 9, 10, 12, 13]), list([8, 9, 10, 12, 13, 15]),\n",
       "       list([8, 9, 10, 12, 13, 15]), list([8, 9, 10, 12, 13, 15]),\n",
       "       list([8, 9, 10, 12, 13]), list([8, 9, 10, 12, 13, 16]),\n",
       "       list([8, 9, 10, 12, 13, 16]), list([8, 9, 10, 12, 13, 16]),\n",
       "       list([8, 9, 10, 12, 13, 16]), list([8, 9, 10, 12, 13]),\n",
       "       list([8, 9, 10, 12, 13, 17]), list([8, 9, 10, 12, 13, 17]),\n",
       "       list([8, 9, 10, 12, 13, 17]), list([8, 9, 10, 12, 13, 17, 18]),\n",
       "       list([8, 9, 10, 12, 13, 17, 18]), list([8, 9, 10, 12, 13, 17, 18]),\n",
       "       list([8, 9, 10, 12, 13, 17]), list([8, 9, 10, 12, 13, 17]),\n",
       "       list([8, 9, 10, 12, 13, 17, 19]), list([8, 9, 10, 12, 13, 19]),\n",
       "       list([8, 9, 10, 12, 13, 19]),\n",
       "       list([8, 9, 10, 12, 13, 19, 20, 21, 22]),\n",
       "       list([8, 9, 10, 12, 13, 19, 20, 21, 22, 23]),\n",
       "       list([8, 9, 10, 12, 13, 19, 20, 21, 22, 23]),\n",
       "       list([8, 9, 10, 12, 13, 19, 20, 21, 22, 23]),\n",
       "       list([8, 9, 10, 12, 13, 19, 20, 21, 22, 23]),\n",
       "       list([8, 9, 10, 12, 13, 19, 20, 21, 23, 24]),\n",
       "       list([8, 9, 10, 12, 13, 19, 20, 21, 24]),\n",
       "       list([8, 9, 10, 12, 13, 19, 20, 21, 24, 25]),\n",
       "       list([8, 9, 10, 12, 13, 19, 20, 21, 24, 25]),\n",
       "       list([8, 9, 10, 12, 13, 19, 20, 21, 24, 25]),\n",
       "       list([8, 9, 10, 12, 13, 19, 20, 21, 24, 25, 26]),\n",
       "       list([8, 9, 10, 12, 13, 19, 20, 21, 24, 26]),\n",
       "       list([8, 9, 10, 12, 13, 19, 20, 21, 24, 26]),\n",
       "       list([8, 9, 10, 12, 13, 19, 20, 21, 24, 26]),\n",
       "       list([8, 9, 10, 12, 13, 19, 20, 21, 24, 26]),\n",
       "       list([8, 9, 10, 12, 13, 19, 20, 21, 24]),\n",
       "       list([8, 9, 10, 13, 19, 20, 21, 24]),\n",
       "       list([8, 9, 10, 13, 19, 20, 21, 24, 27]),\n",
       "       list([8, 9, 10, 13, 19, 20, 21, 24, 27]),\n",
       "       list([8, 9, 10, 13, 19, 20, 24, 27]),\n",
       "       list([8, 9, 10, 13, 19, 20, 24, 27]),\n",
       "       list([8, 9, 10, 13, 19, 20, 24, 27]), list([8, 9, 10, 19, 20, 27]),\n",
       "       list([8, 9, 10, 19, 20, 27, 28, 29]),\n",
       "       list([8, 9, 10, 19, 20, 27, 28, 29]),\n",
       "       list([8, 9, 10, 19, 20, 27, 28, 29, 30, 31]),\n",
       "       list([8, 19, 20, 27, 28, 29, 30, 31]),\n",
       "       list([8, 19, 20, 27, 28, 29, 30, 31]),\n",
       "       list([8, 19, 20, 27, 28, 29, 30, 32, 33]),\n",
       "       list([8, 19, 20, 27, 28, 29, 30, 32, 33]),\n",
       "       list([8, 19, 20, 27, 28, 29, 30, 32, 33]),\n",
       "       list([8, 19, 20, 27, 28, 29, 30, 32, 33]),\n",
       "       list([8, 19, 20, 27, 29, 30, 32, 33]),\n",
       "       list([8, 19, 20, 27, 29, 30, 32, 33]),\n",
       "       list([8, 19, 20, 27, 29, 30, 32, 33]), list([19, 20, 27, 29, 30]),\n",
       "       list([19, 20, 27, 29, 30]), list([19, 20, 27, 29, 30]),\n",
       "       list([19, 20, 27, 29, 30]), list([19, 20, 27, 29, 30]),\n",
       "       list([19, 20, 27, 29, 30]), list([19, 20, 27, 29, 30]),\n",
       "       list([19, 20, 30, 34]), list([19, 20, 30, 34, 35]),\n",
       "       list([19, 20, 30, 34, 35]), list([19, 20, 30, 34, 35]),\n",
       "       list([19, 20, 30, 34, 36, 37]), list([19, 20, 30, 34, 36, 37, 38]),\n",
       "       list([19, 20, 30, 34, 38]), list([19, 20, 30, 34, 38, 39]),\n",
       "       list([19, 20, 30, 34, 38, 39, 40]),\n",
       "       list([19, 20, 30, 34, 38, 39, 40, 41]),\n",
       "       list([19, 20, 30, 34, 39, 40, 41]),\n",
       "       list([19, 20, 30, 34, 39, 40, 41, 42]),\n",
       "       list([19, 20, 30, 34, 39, 40, 41, 42]),\n",
       "       list([19, 20, 30, 39, 40, 41, 42]),\n",
       "       list([19, 20, 30, 39, 40, 41, 42]), list([19, 20, 30, 40, 41, 42]),\n",
       "       list([19, 20, 30, 40, 41, 42]), list([19, 20, 30, 40, 42]),\n",
       "       list([19, 20, 30, 40, 42]), list([19, 20, 30, 40, 42]),\n",
       "       list([19, 20, 30, 40, 42, 43]), list([19, 20, 30, 40, 43]),\n",
       "       list([19, 20, 30, 40, 43]), list([19, 20, 30, 40, 43]),\n",
       "       list([19, 20, 30, 40, 43, 44]), list([19, 20, 30, 40, 44, 45]),\n",
       "       list([19, 20, 30, 40, 44, 45]), list([19, 20, 30, 40, 44, 45]),\n",
       "       list([19, 20, 30, 40, 45]), list([19, 20, 30, 40, 45]),\n",
       "       list([19, 20, 30, 40, 45]), list([19, 20, 30, 40, 45, 46]),\n",
       "       list([19, 20, 30, 40, 45, 46]), list([19, 20, 30, 40]),\n",
       "       list([19, 20, 30, 40]), list([19, 20, 30, 40]),\n",
       "       list([19, 20, 30, 40]), list([19, 20, 30, 40]),\n",
       "       list([19, 20, 30, 40, 47]), list([19, 20, 30, 40, 47]),\n",
       "       list([19, 20, 30, 40, 47]), list([20, 30, 40, 47]),\n",
       "       list([20, 30, 40, 47]), list([20, 30, 40, 47, 48, 49]),\n",
       "       list([20, 30, 40, 47, 48, 49]), list([20, 30, 40, 47, 48]),\n",
       "       list([20, 30, 40, 47]), list([20, 30, 40, 47]),\n",
       "       list([20, 30, 40, 47]), list([40, 47]), list([40, 47, 50]),\n",
       "       list([40, 47, 50, 51]), list([40, 47, 50, 51]),\n",
       "       list([40, 47, 50, 51]), list([40, 47, 50, 51]),\n",
       "       list([40, 47, 50, 51]), list([40, 47, 50, 51])], dtype=object)"
      ]
     },
     "execution_count": 90,
     "metadata": {},
     "output_type": "execute_result"
    }
   ],
   "source": [
    "res_pd['ids']"
   ]
  },
  {
   "cell_type": "code",
   "execution_count": 81,
   "id": "d9ebbada-a5dc-4836-b851-5fdeb56f17f0",
   "metadata": {},
   "outputs": [],
   "source": [
    "res_cc_file = '/mnt/data/waymo/mot_demo/mot_results/demo/summary/cyclist/segment-10203656353524179475_7625_000_7645_000_with_camera_labels.npz'"
   ]
  },
  {
   "cell_type": "code",
   "execution_count": 85,
   "id": "8cb92d78-6f3e-4010-bb60-665b38ad8a73",
   "metadata": {},
   "outputs": [],
   "source": [
    "res_cc = np.load(res_cc_file, allow_pickle=True)"
   ]
  },
  {
   "cell_type": "code",
   "execution_count": 89,
   "id": "acbae4df-43e9-407f-9c9f-2927bca7a3b2",
   "metadata": {},
   "outputs": [
    {
     "data": {
      "text/plain": [
       "array([], shape=(198, 0), dtype=float64)"
      ]
     },
     "execution_count": 89,
     "metadata": {},
     "output_type": "execute_result"
    }
   ],
   "source": [
    "res_cc['states']"
   ]
  },
  {
   "cell_type": "code",
   "execution_count": null,
   "id": "ba1dee7b-460b-4bf7-bdb7-c0a152aead58",
   "metadata": {},
   "outputs": [],
   "source": []
  }
 ],
 "metadata": {
  "kernelspec": {
   "display_name": "Python 3 (ipykernel)",
   "language": "python",
   "name": "python3"
  },
  "language_info": {
   "codemirror_mode": {
    "name": "ipython",
    "version": 3
   },
   "file_extension": ".py",
   "mimetype": "text/x-python",
   "name": "python",
   "nbconvert_exporter": "python",
   "pygments_lexer": "ipython3",
   "version": "3.9.10"
  }
 },
 "nbformat": 4,
 "nbformat_minor": 5
}
