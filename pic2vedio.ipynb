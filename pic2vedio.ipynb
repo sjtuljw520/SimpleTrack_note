{
 "cells": [
  {
   "cell_type": "code",
   "execution_count": 7,
   "id": "cc9c8028-5a94-4007-9d5f-6cd691761f54",
   "metadata": {},
   "outputs": [],
   "source": [
    "import numpy as np\n",
    "import cv2\n",
    "import glob\n",
    "import os"
   ]
  },
  {
   "cell_type": "code",
   "execution_count": 33,
   "id": "81481d5d-03d7-4ba9-9b36-3970cb36ddd2",
   "metadata": {},
   "outputs": [],
   "source": [
    "org_dir = '/mnt/data/waymo/mot_demo/demo_data/mot_results/demo_pvrcnnplusplus_6/imgs/pedestrian//'\n",
    "save_dir = '/mnt/data/waymo/mot_demo/demo_data/mot_results/demo_pvrcnnplusplus_6/imgs/pedestrian/'\n",
    "if not os.path.exists(save_dir):\n",
    "    os.makedirs(save_dir, exist_ok=True)\n",
    "    \n",
    "# for file_ele in os.listdir(org_dir):\n",
    "#     org_file = os.path.join(org_dir, file_ele)\n",
    "#     read_img = cv2.imread(org_file)\n",
    "#     img90 = cv2.flip(cv2.transpose(read_img), 1)\n",
    "#     save_file = os.path.join(save_dir, file_ele)\n",
    "#     cv2.imwrite(save_file, img90)"
   ]
  },
  {
   "cell_type": "code",
   "execution_count": 34,
   "id": "c95321f0-3eef-4e24-9a6c-699995807e0d",
   "metadata": {},
   "outputs": [],
   "source": [
    "img_list = os.listdir(save_dir)\n",
    "img_list_new = []\n",
    "for ele in img_list:\n",
    "    if 'png' in ele:\n",
    "        img_list_new.append(ele)\n",
    "img_list_new.sort()"
   ]
  },
  {
   "cell_type": "code",
   "execution_count": 35,
   "id": "3e636a79-c570-46b9-b6ea-530ffa5fd620",
   "metadata": {},
   "outputs": [],
   "source": [
    "img_list_new = [str(i) + '.png' for i in range(198)]"
   ]
  },
  {
   "cell_type": "code",
   "execution_count": 36,
   "id": "f85d59c4-1961-414a-9625-127e81baacc7",
   "metadata": {
    "tags": []
   },
   "outputs": [],
   "source": [
    "img_list_new = img_list_new[60:]"
   ]
  },
  {
   "cell_type": "code",
   "execution_count": 37,
   "id": "f31eed4d-cf54-448b-b273-91dfd89eb865",
   "metadata": {},
   "outputs": [],
   "source": [
    "fps = 5\n",
    "size = (1200, 1200)\n",
    "videoWriter = cv2.VideoWriter(os.path.join(save_dir, 'video.avi'), cv2.VideoWriter_fourcc('I', '4', '2', '0'), fps, size)\n",
    "for img in img_list_new:\n",
    "    read_img = cv2.imread(os.path.join(org_dir, img))\n",
    "    videoWriter.write(read_img)\n",
    "videoWriter.release()"
   ]
  },
  {
   "cell_type": "code",
   "execution_count": null,
   "id": "e9cd2db5-cb1f-4522-bd91-603f50d6a3b9",
   "metadata": {},
   "outputs": [],
   "source": []
  }
 ],
 "metadata": {
  "kernelspec": {
   "display_name": "Python 3 (ipykernel)",
   "language": "python",
   "name": "python3"
  },
  "language_info": {
   "codemirror_mode": {
    "name": "ipython",
    "version": 3
   },
   "file_extension": ".py",
   "mimetype": "text/x-python",
   "name": "python",
   "nbconvert_exporter": "python",
   "pygments_lexer": "ipython3",
   "version": "3.9.10"
  }
 },
 "nbformat": 4,
 "nbformat_minor": 5
}
