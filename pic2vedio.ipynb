{
 "cells": [
  {
   "cell_type": "code",
   "execution_count": 3,
   "id": "cc9c8028-5a94-4007-9d5f-6cd691761f54",
   "metadata": {},
   "outputs": [],
   "source": [
    "import numpy as np\n",
    "import cv2\n",
    "import glob\n",
    "import os"
   ]
  },
  {
   "cell_type": "code",
   "execution_count": 4,
   "id": "81481d5d-03d7-4ba9-9b36-3970cb36ddd2",
   "metadata": {},
   "outputs": [],
   "source": [
    "# org_dir = '/mnt/data/zlidar/lidar-sample/mot_results/segment1/imgs/vehicle/'\n",
    "# save_dir = '/mnt/data/zlidar/lidar-sample/mot_results/segment1/imgs/vehicle/'\n",
    "org_dir = '/home/liujianwei/project/share/gitlab/vision_pilot_dev/SIL-MonoOd/out/img_0809_1448/'\n",
    "save_dir = '/home/liujianwei/project/share/gitlab/vision_pilot_dev/SIL-MonoOd/out'\n",
    "# if not os.path.exists(save_dir):\n",
    "#     os.makedirs(save_di exist_ok=True)"
   ]
  },
  {
   "cell_type": "code",
   "execution_count": 18,
   "id": "c95321f0-3eef-4e24-9a6c-699995807e0d",
   "metadata": {},
   "outputs": [],
   "source": [
    "img_list = os.listdir(org_dir)\n",
    "img_list_new = []\n",
    "for ele in img_list:\n",
    "    if 'png' in ele:\n",
    "        img_list_new.append(ele)\n",
    "img_list_new.sort()"
   ]
  },
  {
   "cell_type": "code",
   "execution_count": 19,
   "id": "94ce4cb7",
   "metadata": {},
   "outputs": [
    {
     "data": {
      "text/plain": [
       "'001002'"
      ]
     },
     "execution_count": 19,
     "metadata": {},
     "output_type": "execute_result"
    }
   ],
   "source": [
    "img_list_new[1000][:-4]"
   ]
  },
  {
   "cell_type": "code",
   "execution_count": 20,
   "id": "e95d1646",
   "metadata": {},
   "outputs": [],
   "source": [
    "img_list_used = sorted(img_list_new, key=lambda x: int(x[:-4]))"
   ]
  },
  {
   "cell_type": "code",
   "execution_count": 21,
   "id": "942f9fcb",
   "metadata": {},
   "outputs": [
    {
     "data": {
      "text/plain": [
       "2560"
      ]
     },
     "execution_count": 21,
     "metadata": {},
     "output_type": "execute_result"
    }
   ],
   "source": [
    "len(img_list_used)"
   ]
  },
  {
   "cell_type": "code",
   "execution_count": 22,
   "id": "f31eed4d-cf54-448b-b273-91dfd89eb865",
   "metadata": {},
   "outputs": [],
   "source": [
    "fps = 10\n",
    "size = (1194, 600)\n",
    "videoWriter = cv2.VideoWriter(os.path.join(save_dir, 'img_0809_1448.avi'), cv2.VideoWriter_fourcc('I', '4', '2', '0'), fps, size)\n",
    "for index, img in enumerate(img_list_used):\n",
    "    read_img = cv2.imread(os.path.join(org_dir, img))\n",
    "    read_img = cv2.resize(read_img, size)\n",
    "    videoWriter.write(read_img)\n",
    "videoWriter.release()"
   ]
  },
  {
   "cell_type": "code",
   "execution_count": 11,
   "id": "95442abc",
   "metadata": {},
   "outputs": [
    {
     "data": {
      "text/plain": [
       "(1200, 2394, 3)"
      ]
     },
     "execution_count": 11,
     "metadata": {},
     "output_type": "execute_result"
    }
   ],
   "source": [
    "read_img.shape"
   ]
  },
  {
   "cell_type": "code",
   "execution_count": 5,
   "id": "f9359e7f",
   "metadata": {},
   "outputs": [],
   "source": [
    "distance_matrix = np.array([[0.1, 0.3, 0.6],[0.7, 0.33, 0.12], [0.4, 0.65, 0.05],[0.3, 0.01, 0.6]])"
   ]
  },
  {
   "cell_type": "code",
   "execution_count": 6,
   "id": "666e1572",
   "metadata": {},
   "outputs": [],
   "source": [
    "distance_1d = distance_matrix.reshape(-1)"
   ]
  },
  {
   "cell_type": "code",
   "execution_count": 7,
   "id": "49a2e3c2",
   "metadata": {},
   "outputs": [],
   "source": [
    "num_trks, num_dets = distance_matrix.shape"
   ]
  },
  {
   "cell_type": "code",
   "execution_count": 8,
   "id": "51c3f235",
   "metadata": {},
   "outputs": [],
   "source": [
    "index_1d = np.argsort(distance_1d)\n",
    "index_2d = np.stack([index_1d // num_dets, index_1d % num_dets], axis=1)\n",
    "detection_id_matches_to_tracking_id = [-1] * num_dets\n",
    "tracking_id_matches_to_detection_id = [-1] * num_trks"
   ]
  },
  {
   "cell_type": "code",
   "execution_count": 9,
   "id": "e6086038",
   "metadata": {},
   "outputs": [
    {
     "data": {
      "text/plain": [
       "array([10,  8,  0,  5,  1,  9,  4,  6,  2, 11,  7,  3])"
      ]
     },
     "execution_count": 9,
     "metadata": {},
     "output_type": "execute_result"
    }
   ],
   "source": [
    "index_1d"
   ]
  },
  {
   "cell_type": "code",
   "execution_count": 10,
   "id": "a4c83bee",
   "metadata": {},
   "outputs": [
    {
     "data": {
      "text/plain": [
       "array([[3, 1],\n",
       "       [2, 2],\n",
       "       [0, 0],\n",
       "       [1, 2],\n",
       "       [0, 1],\n",
       "       [3, 0],\n",
       "       [1, 1],\n",
       "       [2, 0],\n",
       "       [0, 2],\n",
       "       [3, 2],\n",
       "       [2, 1],\n",
       "       [1, 0]])"
      ]
     },
     "execution_count": 10,
     "metadata": {},
     "output_type": "execute_result"
    }
   ],
   "source": [
    "index_2d"
   ]
  },
  {
   "cell_type": "code",
   "execution_count": 11,
   "id": "f711a164",
   "metadata": {},
   "outputs": [],
   "source": [
    "matched_indices = list()\n",
    "for sort_i in range(index_2d.shape[0]):\n",
    "        tracking_id = int(index_2d[sort_i][0])\n",
    "        detection_id = int(index_2d[sort_i][1])\n",
    "        if tracking_id_matches_to_detection_id[tracking_id] == -1 and detection_id_matches_to_tracking_id[detection_id] == -1:\n",
    "            tracking_id_matches_to_detection_id[tracking_id] = detection_id\n",
    "            detection_id_matches_to_tracking_id[detection_id] = tracking_id\n",
    "            matched_indices.append([tracking_id, detection_id])"
   ]
  },
  {
   "cell_type": "code",
   "execution_count": 12,
   "id": "12be92a6",
   "metadata": {},
   "outputs": [
    {
     "data": {
      "text/plain": [
       "[[3, 1], [2, 2], [0, 0]]"
      ]
     },
     "execution_count": 12,
     "metadata": {},
     "output_type": "execute_result"
    }
   ],
   "source": [
    "matched_indices"
   ]
  },
  {
   "cell_type": "code",
   "execution_count": 13,
   "id": "84617bbb",
   "metadata": {},
   "outputs": [
    {
     "data": {
      "text/plain": [
       "[0, -1, 2, 1]"
      ]
     },
     "execution_count": 13,
     "metadata": {},
     "output_type": "execute_result"
    }
   ],
   "source": [
    "tracking_id_matches_to_detection_id"
   ]
  },
  {
   "cell_type": "code",
   "execution_count": null,
   "id": "ad82285e",
   "metadata": {},
   "outputs": [],
   "source": []
  }
 ],
 "metadata": {
  "kernelspec": {
   "display_name": "Python 3.7.10 ('base')",
   "language": "python",
   "name": "python3"
  },
  "language_info": {
   "codemirror_mode": {
    "name": "ipython",
    "version": 3
   },
   "file_extension": ".py",
   "mimetype": "text/x-python",
   "name": "python",
   "nbconvert_exporter": "python",
   "pygments_lexer": "ipython3",
   "version": "3.7.16"
  },
  "vscode": {
   "interpreter": {
    "hash": "d4d1e4263499bec80672ea0156c357c1ee493ec2b1c70f0acce89fc37c4a6abe"
   }
  }
 },
 "nbformat": 4,
 "nbformat_minor": 5
}
